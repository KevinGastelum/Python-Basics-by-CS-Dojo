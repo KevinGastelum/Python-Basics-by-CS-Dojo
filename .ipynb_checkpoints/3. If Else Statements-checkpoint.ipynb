{
 "cells": [
  {
   "cell_type": "code",
   "execution_count": 7,
   "id": "a368c9eb",
   "metadata": {},
   "outputs": [
    {
     "name": "stdout",
     "output_type": "stream",
     "text": [
      "a is greater than b\n"
     ]
    }
   ],
   "source": [
    "# Using if, elif, and else to find if a is less than, greater than or equal to b\n",
    "a = 999\n",
    "b = 10\n",
    "if a < b:\n",
    "    print(\"a is less than b\")\n",
    "elif a == b:\n",
    "    print(\"a is equal to b\")\n",
    "else:\n",
    "    print(\"a is greater than b\")"
   ]
  },
  {
   "cell_type": "code",
   "execution_count": 23,
   "id": "83041d37",
   "metadata": {},
   "outputs": [
    {
     "name": "stdout",
     "output_type": "stream",
     "text": [
      "c is greater than d by 10\n"
     ]
    }
   ],
   "source": [
    "# Checking to see if c is greater than d by less than or more than 10\n",
    "c = 80\n",
    "d = 70\n",
    "if c < d:\n",
    "    print(\"c is less than d\")\n",
    "elif c < d + 10:\n",
    "    print(\"c is less than d by 10\")\n",
    "elif d < c + 10:\n",
    "    print(\"c is greater than d by 10\")\n",
    "else:\n",
    "    print(\"c is greater than d\")"
   ]
  },
  {
   "cell_type": "code",
   "execution_count": 21,
   "id": "9630f146",
   "metadata": {},
   "outputs": [
    {
     "name": "stdout",
     "output_type": "stream",
     "text": [
      "bmi: 22.375578703703702\n",
      "KG is not overweight\n"
     ]
    }
   ],
   "source": [
    "name = \"KG\"\n",
    "weight_lb = 165\n",
    "height_in = 72\n",
    "\n",
    "bmi = weight_lb * 703 / (height_in ** 2)\n",
    "print(f\"bmi: {bmi}\")\n",
    "if bmi < 25:\n",
    "    print(f\"{name} is not overweight\")\n",
    "else:\n",
    "    print(f\"{name} is overweight\")"
   ]
  }
 ],
 "metadata": {
  "kernelspec": {
   "display_name": "Python 3 (ipykernel)",
   "language": "python",
   "name": "python3"
  },
  "language_info": {
   "codemirror_mode": {
    "name": "ipython",
    "version": 3
   },
   "file_extension": ".py",
   "mimetype": "text/x-python",
   "name": "python",
   "nbconvert_exporter": "python",
   "pygments_lexer": "ipython3",
   "version": "3.9.7"
  }
 },
 "nbformat": 4,
 "nbformat_minor": 5
}
