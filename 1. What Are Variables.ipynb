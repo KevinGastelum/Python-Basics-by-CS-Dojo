{
 "cells": [
  {
   "cell_type": "code",
   "execution_count": null,
   "id": "3310ed5c",
   "metadata": {},
   "outputs": [],
   "source": [
    "# CS DOJO's Python for Absolute Beginnners\n",
    "# https://www.youtube.com/watch?v=Z1Yd7upQsXY&list=PLBZBJbE_rGRWeh5mIBhD-hhDwSEDxogDg&ab_channel=CSDojo"
   ]
  },
  {
   "cell_type": "code",
   "execution_count": 5,
   "id": "c502caa3",
   "metadata": {},
   "outputs": [
    {
     "name": "stdout",
     "output_type": "stream",
     "text": [
      "Hello World\n",
      "more strings\n",
      "3\n"
     ]
    }
   ],
   "source": [
    "print(\"Hello World\")\n",
    "print('more strings')\n",
    "print(3)"
   ]
  },
  {
   "cell_type": "code",
   "execution_count": 6,
   "id": "9fccfba6",
   "metadata": {},
   "outputs": [],
   "source": [
    "a = 1"
   ]
  },
  {
   "cell_type": "code",
   "execution_count": 7,
   "id": "802cd768",
   "metadata": {},
   "outputs": [],
   "source": [
    "b = 2"
   ]
  },
  {
   "cell_type": "code",
   "execution_count": 8,
   "id": "ad72b83c",
   "metadata": {},
   "outputs": [
    {
     "name": "stdout",
     "output_type": "stream",
     "text": [
      "1\n",
      "2\n"
     ]
    }
   ],
   "source": [
    "print(a)\n",
    "print(b)"
   ]
  },
  {
   "cell_type": "code",
   "execution_count": 9,
   "id": "f0f9d7de",
   "metadata": {},
   "outputs": [],
   "source": [
    "c = \"Hello there\""
   ]
  },
  {
   "cell_type": "code",
   "execution_count": 10,
   "id": "4e86f752",
   "metadata": {},
   "outputs": [
    {
     "name": "stdout",
     "output_type": "stream",
     "text": [
      "1 2 Hello there\n"
     ]
    }
   ],
   "source": [
    "print(a, b, c)"
   ]
  },
  {
   "cell_type": "code",
   "execution_count": 11,
   "id": "b7900aae",
   "metadata": {},
   "outputs": [
    {
     "name": "stdout",
     "output_type": "stream",
     "text": [
      "Goodbye Hello World\n"
     ]
    }
   ],
   "source": [
    "a = \"Hello World\"\n",
    "b = a\n",
    "a = \"Goodbye\"\n",
    "print(a, b)"
   ]
  },
  {
   "cell_type": "code",
   "execution_count": 12,
   "id": "bc14edc4",
   "metadata": {},
   "outputs": [],
   "source": [
    "# Goodbye will get printed first because the new value of a is \"Goodbye\"\n",
    "# But b is referring to the original value of a which is \"Hello World\""
   ]
  },
  {
   "cell_type": "code",
   "execution_count": null,
   "id": "01f9e9c5",
   "metadata": {},
   "outputs": [],
   "source": []
  }
 ],
 "metadata": {
  "kernelspec": {
   "display_name": "Python 3 (ipykernel)",
   "language": "python",
   "name": "python3"
  },
  "language_info": {
   "codemirror_mode": {
    "name": "ipython",
    "version": 3
   },
   "file_extension": ".py",
   "mimetype": "text/x-python",
   "name": "python",
   "nbconvert_exporter": "python",
   "pygments_lexer": "ipython3",
   "version": "3.9.7"
  }
 },
 "nbformat": 4,
 "nbformat_minor": 5
}
